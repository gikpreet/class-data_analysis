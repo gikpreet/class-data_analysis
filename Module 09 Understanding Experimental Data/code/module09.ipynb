{
 "cells": [
  {
   "cell_type": "code",
   "execution_count": 1,
   "metadata": {},
   "outputs": [],
   "source": [
    "import random, pylab, numpy"
   ]
  },
  {
   "cell_type": "code",
   "execution_count": 2,
   "metadata": {},
   "outputs": [],
   "source": [
    "#set line width\n",
    "pylab.rcParams['lines.linewidth'] = 4\n",
    "#set font size for titles \n",
    "pylab.rcParams['axes.titlesize'] = 20\n",
    "#set font size for labels on axes\n",
    "pylab.rcParams['axes.labelsize'] = 20\n",
    "#set size of numbers on x-axis\n",
    "pylab.rcParams['xtick.labelsize'] = 16\n",
    "#set size of numbers on y-axis\n",
    "pylab.rcParams['ytick.labelsize'] = 16\n",
    "#set size of ticks on x-axis\n",
    "pylab.rcParams['xtick.major.size'] = 7\n",
    "#set size of ticks on y-axis\n",
    "pylab.rcParams['ytick.major.size'] = 7\n",
    "#set size of markers\n",
    "pylab.rcParams['lines.markersize'] = 10\n",
    "#set number of examples shown in legends\n",
    "pylab.rcParams['legend.numpoints'] = 1"
   ]
  },
  {
   "cell_type": "code",
   "execution_count": 3,
   "metadata": {},
   "outputs": [],
   "source": [
    "def getData(fileName):\n",
    "    dataFile = open(fileName, 'r')\n",
    "    distances = []\n",
    "    masses = []\n",
    "    dataFile.readline() #discard header\n",
    "    for line in dataFile:\n",
    "        d, m = line.split()\n",
    "        distances.append(float(d))\n",
    "        masses.append(float(m))\n",
    "    dataFile.close()\n",
    "    return (masses, distances)\n",
    "    \n",
    "def labelPlot():\n",
    "    pylab.title('Measured Displacement of Spring')\n",
    "    pylab.xlabel('|Force| (Newtons)')\n",
    "    pylab.ylabel('Distance (meters)')\n",
    "\n",
    "def plotData(fileName):\n",
    "    xVals, yVals = getData(fileName)\n",
    "    xVals = pylab.array(xVals)\n",
    "    yVals = pylab.array(yVals)\n",
    "    xVals = xVals*9.81  #acc. due to gravity\n",
    "    pylab.plot(xVals, yVals, 'bo',\n",
    "               label = 'Measured displacements')\n",
    "    labelPlot()\n",
    "    \n",
    "def fitData(fileName):\n",
    "    xVals, yVals = getData(fileName)\n",
    "    xVals = pylab.array(xVals)\n",
    "    yVals = pylab.array(yVals)\n",
    "    xVals = xVals*9.81 #get force\n",
    "    pylab.plot(xVals, yVals, 'bo',\n",
    "               label = 'Measured points')\n",
    "    labelPlot()                 \n",
    "    a,b = pylab.polyfit(xVals, yVals, 1)\n",
    "    estYVals = a*pylab.array(xVals) + b\n",
    "    print('a =', a, 'b =', b)\n",
    "    pylab.plot(xVals, estYVals, 'r',\n",
    "               label = 'Linear fit, k = '\n",
    "               + str(round(1/a, 5)))\n",
    "    pylab.legend(loc = 'best')"
   ]
  },
  {
   "cell_type": "code",
   "execution_count": 6,
   "metadata": {},
   "outputs": [
    {
     "data": {
      "image/png": "[encoded data removed]",
      "text/plain": [
       "<Figure size 432x288 with 1 Axes>"
      ]
     },
     "metadata": {
      "needs_background": "light"
     },
     "output_type": "display_data"
    }
   ],
   "source": [
    "plotData('springData.txt')"
   ]
  },
  {
   "cell_type": "code",
   "execution_count": null,
   "metadata": {},
   "outputs": [],
   "source": []
  }
 ],
 "metadata": {
  "kernelspec": {
   "display_name": "base",
   "language": "python",
   "name": "python3"
  },
  "language_info": {
   "codemirror_mode": {
    "name": "ipython",
    "version": 3
   },
   "file_extension": ".py",
   "mimetype": "text/x-python",
   "name": "python",
   "nbconvert_exporter": "python",
   "pygments_lexer": "ipython3",
   "version": "3.9.7"
  }
 },
 "nbformat": 4,
 "nbformat_minor": 2
}
