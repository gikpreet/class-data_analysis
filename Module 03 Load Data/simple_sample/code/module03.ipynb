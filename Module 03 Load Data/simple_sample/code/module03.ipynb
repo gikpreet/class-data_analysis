{
 "cells": [
  {
   "cell_type": "markdown",
   "metadata": {},
   "source": [
    "# 외부 데이터"
   ]
  },
  {
   "cell_type": "markdown",
   "metadata": {},
   "source": [
    "## CSV"
   ]
  },
  {
   "cell_type": "code",
   "execution_count": 3,
   "metadata": {},
   "outputs": [],
   "source": [
    "import pandas as pd"
   ]
  },
  {
   "cell_type": "code",
   "execution_count": 5,
   "metadata": {},
   "outputs": [
    {
     "name": "stdout",
     "output_type": "stream",
     "text": [
      "<class 'pandas.core.frame.DataFrame'>\n",
      "RangeIndex: 18 entries, 0 to 17\n",
      "Data columns (total 6 columns):\n",
      " #   Column  Non-Null Count  Dtype  \n",
      "---  ------  --------------  -----  \n",
      " 0   행정구역    18 non-null     object \n",
      " 1   총인구수    18 non-null     object \n",
      " 2   세대수     18 non-null     object \n",
      " 3   세대당인구   18 non-null     float64\n",
      " 4   남자인구수   18 non-null     object \n",
      " 5   여자인구수   18 non-null     object \n",
      "dtypes: float64(1), object(5)\n",
      "memory usage: 996.0+ bytes\n"
     ]
    }
   ],
   "source": [
    "df_pop202309 = pd.read_csv('population202309.csv')\n",
    "# 구분자 사용\n",
    "#df_pop202309 = pd.read_csv('population202309.csv', sep='|')\n",
    "df_pop202309.info()"
   ]
  },
  {
   "cell_type": "markdown",
   "metadata": {},
   "source": [
    "## Excel"
   ]
  },
  {
   "cell_type": "code",
   "execution_count": 7,
   "metadata": {},
   "outputs": [
    {
     "name": "stdout",
     "output_type": "stream",
     "text": [
      "<class 'pandas.core.frame.DataFrame'>\n",
      "RangeIndex: 1309 entries, 0 to 1308\n",
      "Data columns (total 14 columns):\n",
      " #   Column     Non-Null Count  Dtype  \n",
      "---  ------     --------------  -----  \n",
      " 0   pclass     1309 non-null   int64  \n",
      " 1   survived   1309 non-null   int64  \n",
      " 2   name       1309 non-null   object \n",
      " 3   sex        1309 non-null   object \n",
      " 4   age        1046 non-null   float64\n",
      " 5   sibsp      1309 non-null   int64  \n",
      " 6   parch      1309 non-null   int64  \n",
      " 7   ticket     1309 non-null   object \n",
      " 8   fare       1308 non-null   float64\n",
      " 9   cabin      295 non-null    object \n",
      " 10  embarked   1307 non-null   object \n",
      " 11  boat       486 non-null    object \n",
      " 12  body       121 non-null    float64\n",
      " 13  home.dest  745 non-null    object \n",
      "dtypes: float64(3), int64(4), object(7)\n",
      "memory usage: 143.3+ KB\n"
     ]
    }
   ],
   "source": [
    "df_titanic = pd.read_excel('titanic.xls')\n",
    "df_titanic.info()"
   ]
  },
  {
   "cell_type": "markdown",
   "metadata": {},
   "source": [
    "## JSON"
   ]
  },
  {
   "cell_type": "code",
   "execution_count": 8,
   "metadata": {},
   "outputs": [
    {
     "data": {
      "text/html": [
       "<div>\n",
       "<style scoped>\n",
       "    .dataframe tbody tr th:only-of-type {\n",
       "        vertical-align: middle;\n",
       "    }\n",
       "\n",
       "    .dataframe tbody tr th {\n",
       "        vertical-align: top;\n",
       "    }\n",
       "\n",
       "    .dataframe thead th {\n",
       "        text-align: right;\n",
       "    }\n",
       "</style>\n",
       "<table border=\"1\" class=\"dataframe\">\n",
       "  <thead>\n",
       "    <tr style=\"text-align: right;\">\n",
       "      <th></th>\n",
       "      <th>name</th>\n",
       "      <th>year</th>\n",
       "      <th>developer</th>\n",
       "      <th>opensource</th>\n",
       "    </tr>\n",
       "  </thead>\n",
       "  <tbody>\n",
       "    <tr>\n",
       "      <th>pandas</th>\n",
       "      <td></td>\n",
       "      <td>2008</td>\n",
       "      <td>Wes Mckinneye</td>\n",
       "      <td>True</td>\n",
       "    </tr>\n",
       "    <tr>\n",
       "      <th>NumPy</th>\n",
       "      <td></td>\n",
       "      <td>2006</td>\n",
       "      <td>Travis Oliphant</td>\n",
       "      <td>True</td>\n",
       "    </tr>\n",
       "    <tr>\n",
       "      <th>matplotlib</th>\n",
       "      <td></td>\n",
       "      <td>2003</td>\n",
       "      <td>John D. Hunter</td>\n",
       "      <td>True</td>\n",
       "    </tr>\n",
       "  </tbody>\n",
       "</table>\n",
       "</div>"
      ],
      "text/plain": [
       "           name  year        developer opensource\n",
       "pandas           2008    Wes Mckinneye       True\n",
       "NumPy            2006  Travis Oliphant       True\n",
       "matplotlib       2003   John D. Hunter       True"
      ]
     },
     "execution_count": 8,
     "metadata": {},
     "output_type": "execute_result"
    }
   ],
   "source": [
    "df_json = pd.read_json('json_sample.json')\n",
    "df_json"
   ]
  },
  {
   "cell_type": "markdown",
   "metadata": {},
   "source": [
    "## HTML Page의 Table"
   ]
  },
  {
   "cell_type": "code",
   "execution_count": 4,
   "metadata": {},
   "outputs": [
    {
     "data": {
      "text/html": [
       "<div>\n",
       "<style scoped>\n",
       "    .dataframe tbody tr th:only-of-type {\n",
       "        vertical-align: middle;\n",
       "    }\n",
       "\n",
       "    .dataframe tbody tr th {\n",
       "        vertical-align: top;\n",
       "    }\n",
       "\n",
       "    .dataframe thead th {\n",
       "        text-align: right;\n",
       "    }\n",
       "</style>\n",
       "<table border=\"1\" class=\"dataframe\">\n",
       "  <thead>\n",
       "    <tr style=\"text-align: right;\">\n",
       "      <th></th>\n",
       "      <th>0</th>\n",
       "      <th>1</th>\n",
       "      <th>2</th>\n",
       "      <th>3</th>\n",
       "      <th>4</th>\n",
       "      <th>5</th>\n",
       "    </tr>\n",
       "  </thead>\n",
       "  <tbody>\n",
       "    <tr>\n",
       "      <th>0</th>\n",
       "      <td>순위</td>\n",
       "      <td>영화</td>\n",
       "      <td>세계 흥행 수익</td>\n",
       "      <td>북미 흥행 수익</td>\n",
       "      <td>북미 %</td>\n",
       "      <td>제작비</td>\n",
       "    </tr>\n",
       "    <tr>\n",
       "      <th>1</th>\n",
       "      <td>1</td>\n",
       "      <td>아바타 (2009)</td>\n",
       "      <td>$2,847,246,203</td>\n",
       "      <td>$760,507,625</td>\n",
       "      <td>26.71%</td>\n",
       "      <td>$237,000,000</td>\n",
       "    </tr>\n",
       "    <tr>\n",
       "      <th>2</th>\n",
       "      <td>2</td>\n",
       "      <td>어벤저스: 엔드게임 (2019)</td>\n",
       "      <td>$2,797,501,328</td>\n",
       "      <td>$858,373,000</td>\n",
       "      <td>30.68%</td>\n",
       "      <td>$356,000,000</td>\n",
       "    </tr>\n",
       "    <tr>\n",
       "      <th>3</th>\n",
       "      <td>3</td>\n",
       "      <td>타이타닉 (1997)</td>\n",
       "      <td>$2,201,647,264</td>\n",
       "      <td>$659,363,944</td>\n",
       "      <td>29.95%</td>\n",
       "      <td>$200,000,000</td>\n",
       "    </tr>\n",
       "    <tr>\n",
       "      <th>4</th>\n",
       "      <td>4</td>\n",
       "      <td>스타 워즈: 깨어난 포스 (2015)</td>\n",
       "      <td>$2,068,223,624</td>\n",
       "      <td>$936,662,225</td>\n",
       "      <td>45.29%</td>\n",
       "      <td>$245,000,000</td>\n",
       "    </tr>\n",
       "    <tr>\n",
       "      <th>...</th>\n",
       "      <td>...</td>\n",
       "      <td>...</td>\n",
       "      <td>...</td>\n",
       "      <td>...</td>\n",
       "      <td>...</td>\n",
       "      <td>...</td>\n",
       "    </tr>\n",
       "    <tr>\n",
       "      <th>196</th>\n",
       "      <td>196</td>\n",
       "      <td>월드워 Z (2013)</td>\n",
       "      <td>$540,007,876</td>\n",
       "      <td>$202,359,711</td>\n",
       "      <td>37.47%</td>\n",
       "      <td>$190,000,000</td>\n",
       "    </tr>\n",
       "    <tr>\n",
       "      <th>197</th>\n",
       "      <td>197</td>\n",
       "      <td>메리다와 마법의 숲 (2012)</td>\n",
       "      <td>$538,983,207</td>\n",
       "      <td>$237,283,207</td>\n",
       "      <td>44.02%</td>\n",
       "      <td>$185,000,000</td>\n",
       "    </tr>\n",
       "    <tr>\n",
       "      <th>198</th>\n",
       "      <td>198</td>\n",
       "      <td>심슨가족, 더 무비 (2007)</td>\n",
       "      <td>$536,414,270</td>\n",
       "      <td>$183,135,014</td>\n",
       "      <td>34.14%</td>\n",
       "      <td>$75,000,000</td>\n",
       "    </tr>\n",
       "    <tr>\n",
       "      <th>199</th>\n",
       "      <td>199</td>\n",
       "      <td>레버넌트: 죽음에서 돌아온 자 (2015)</td>\n",
       "      <td>$532,950,503</td>\n",
       "      <td>$183,637,894</td>\n",
       "      <td>34.46%</td>\n",
       "      <td>$135,000,000</td>\n",
       "    </tr>\n",
       "    <tr>\n",
       "      <th>200</th>\n",
       "      <td>200</td>\n",
       "      <td>메가로돈 (2018)</td>\n",
       "      <td>$530,243,742</td>\n",
       "      <td>$145,443,742</td>\n",
       "      <td>27.43%</td>\n",
       "      <td>$130,000,000</td>\n",
       "    </tr>\n",
       "  </tbody>\n",
       "</table>\n",
       "<p>201 rows × 6 columns</p>\n",
       "</div>"
      ],
      "text/plain": [
       "       0                        1               2             3       4  \\\n",
       "0     순위                       영화        세계 흥행 수익      북미 흥행 수익    북미 %   \n",
       "1      1               아바타 (2009)  $2,847,246,203  $760,507,625  26.71%   \n",
       "2      2        어벤저스: 엔드게임 (2019)  $2,797,501,328  $858,373,000  30.68%   \n",
       "3      3              타이타닉 (1997)  $2,201,647,264  $659,363,944  29.95%   \n",
       "4      4     스타 워즈: 깨어난 포스 (2015)  $2,068,223,624  $936,662,225  45.29%   \n",
       "..   ...                      ...             ...           ...     ...   \n",
       "196  196             월드워 Z (2013)    $540,007,876  $202,359,711  37.47%   \n",
       "197  197        메리다와 마법의 숲 (2012)    $538,983,207  $237,283,207  44.02%   \n",
       "198  198        심슨가족, 더 무비 (2007)    $536,414,270  $183,135,014  34.14%   \n",
       "199  199  레버넌트: 죽음에서 돌아온 자 (2015)    $532,950,503  $183,637,894  34.46%   \n",
       "200  200              메가로돈 (2018)    $530,243,742  $145,443,742  27.43%   \n",
       "\n",
       "                5  \n",
       "0             제작비  \n",
       "1    $237,000,000  \n",
       "2    $356,000,000  \n",
       "3    $200,000,000  \n",
       "4    $245,000,000  \n",
       "..            ...  \n",
       "196  $190,000,000  \n",
       "197  $185,000,000  \n",
       "198   $75,000,000  \n",
       "199  $135,000,000  \n",
       "200  $130,000,000  \n",
       "\n",
       "[201 rows x 6 columns]"
      ]
     },
     "execution_count": 4,
     "metadata": {},
     "output_type": "execute_result"
    }
   ],
   "source": [
    "boxoffices = pd.read_html('https://movie.datamotion.co.kr/Boxoffice')\n",
    "df_boxoffice = boxoffices[1]\n",
    "df_boxoffice"
   ]
  },
  {
   "cell_type": "markdown",
   "metadata": {},
   "source": [
    "## 데이터 저장\n",
    "### CSV로 저장"
   ]
  },
  {
   "cell_type": "code",
   "execution_count": 5,
   "metadata": {},
   "outputs": [],
   "source": [
    "df_boxoffice.to_csv('boxoffice.csv')"
   ]
  },
  {
   "cell_type": "markdown",
   "metadata": {},
   "source": [
    "### JSON 저장"
   ]
  },
  {
   "cell_type": "code",
   "execution_count": 11,
   "metadata": {},
   "outputs": [],
   "source": [
    "df_boxoffice.to_json('boxoffice.json', orient='records', indent=4, force_ascii=False)"
   ]
  },
  {
   "cell_type": "markdown",
   "metadata": {},
   "source": [
    "### Excel 저장"
   ]
  },
  {
   "cell_type": "code",
   "execution_count": 13,
   "metadata": {},
   "outputs": [],
   "source": [
    "df_boxoffice.to_excel('boxoffice.xlsx')"
   ]
  },
  {
   "cell_type": "markdown",
   "metadata": {},
   "source": [
    "### HTML 저장"
   ]
  },
  {
   "cell_type": "code",
   "execution_count": 14,
   "metadata": {},
   "outputs": [],
   "source": [
    "df_boxoffice.to_html('boxoffice.html')"
   ]
  },
  {
   "cell_type": "markdown",
   "metadata": {},
   "source": [
    "### Markdown 저장"
   ]
  },
  {
   "cell_type": "code",
   "execution_count": 15,
   "metadata": {},
   "outputs": [],
   "source": [
    "df_boxoffice.to_markdown('boxoffice.md')"
   ]
  },
  {
   "cell_type": "code",
   "execution_count": null,
   "metadata": {},
   "outputs": [],
   "source": []
  }
 ],
 "metadata": {
  "kernelspec": {
   "display_name": "base",
   "language": "python",
   "name": "python3"
  },
  "language_info": {
   "codemirror_mode": {
    "name": "ipython",
    "version": 3
   },
   "file_extension": ".py",
   "mimetype": "text/x-python",
   "name": "python",
   "nbconvert_exporter": "python",
   "pygments_lexer": "ipython3",
   "version": "3.11.3"
  }
 },
 "nbformat": 4,
 "nbformat_minor": 2
}
